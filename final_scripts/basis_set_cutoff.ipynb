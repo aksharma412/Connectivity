{
 "cells": [
  {
   "cell_type": "markdown",
   "id": "a7ebfe7f",
   "metadata": {},
   "source": [
    "# ROA spectra with different cutoff distances"
   ]
  },
  {
   "cell_type": "code",
   "execution_count": 3,
   "id": "50d370fd",
   "metadata": {},
   "outputs": [],
   "source": [
    "import pandas as pd\n",
    "import numpy as np\n",
    "import time\n",
    "import csv\n",
    "import math\n",
    "import os\n",
    "import matplotlib as mpl\n",
    "from scipy.signal import find_peaks\n",
    "from scipy.signal import argrelextrema\n",
    "import matplotlib.pyplot as plt\n",
    "import matplotlib.animation as anim\n",
    "from matplotlib.animation import writers\n",
    "from __future__ import unicode_literals\n",
    "\n",
    "%matplotlib notebook"
   ]
  },
  {
   "cell_type": "code",
   "execution_count": null,
   "id": "a534f98b",
   "metadata": {},
   "outputs": [],
   "source": [
    "A = 'Å'"
   ]
  },
  {
   "cell_type": "code",
   "execution_count": null,
   "id": "0e3136b4",
   "metadata": {},
   "outputs": [],
   "source": [
    "def normalize(x):\n",
    "    max_val = np.max(np.abs(x))\n",
    "    return x / max_val"
   ]
  },
  {
   "cell_type": "code",
   "execution_count": null,
   "id": "50d35428",
   "metadata": {},
   "outputs": [],
   "source": [
    "def spectrum(Vib_Freq, observable, fwhm, num_points, spectro):\n",
    "    max_freq = 0.49593677\n",
    "    min_freq = 0\n",
    "    delta = float((max_freq-min_freq)/num_points)\n",
    "    Vib_Freq_axis = np.arange(min_freq, max_freq, delta)\n",
    "    Vib_Freq_axis_cm1 = Vib_Freq_axis*8065.54429\n",
    "    spec = np.zeros_like(Vib_Freq_axis)\n",
    "    if spectro == 'ROA':\n",
    "        peak_pos = peak_finder(observable, Vib_Freq)\n",
    "        for j in range(len(peak_pos)):\n",
    "            spec += observable[j]/(1+(2*(Vib_Freq_axis-peak_pos[j])/fwhm)**2)\n",
    "    else:\n",
    "        for j in range(len(Vib_Freq)):\n",
    "            spec += (1/((2.296*10**(-39))*np.sqrt(np.pi)*fwhm))*Vib_Freq[j]*observable[j]*np.exp(-((Vib_Freq_axis-Vib_Freq[j])/fwhm)**2)\n",
    "    return normalize(spec), Vib_Freq_axis_cm1\n"
   ]
  },
  {
   "cell_type": "code",
   "execution_count": null,
   "id": "180111cc",
   "metadata": {},
   "outputs": [],
   "source": [
    "def peak_finder(CID3, Vib_Freq):\n",
    "    peak_pos = []\n",
    "    peaks, _ = find_peaks(CID3)\n",
    "    for i in range(len(peaks)):\n",
    "        temp = peaks[i]\n",
    "        peak_pos.append(Vib_Freq[temp])\n",
    "    return np.array(peak_pos)"
   ]
  },
  {
   "cell_type": "code",
   "execution_count": null,
   "id": "fd2c263a",
   "metadata": {},
   "outputs": [],
   "source": [
    "spectro = input(\"Enter the spectroscopy method used : \")\n",
    "num_points = 2000\n",
    "fwhm = 0.002"
   ]
  },
  {
   "cell_type": "code",
   "execution_count": null,
   "id": "b3d7705f",
   "metadata": {},
   "outputs": [],
   "source": [
    "t1 = time.time()\n",
    "\n",
    "df = pd.read_csv(\"C:/Users/Aparna K/Downloads/code/Conformer_Generators/3/MD_100/Sorted.txt\", header=None, delimiter='\\t')\n",
    "combined = df[[2,3]].to_numpy()\n",
    "Vib_Freq = combined[:,0]\n",
    "observable = combined[:,1]\n",
    "\n",
    "ROA_3, Vib_Freq_3 = spectrum(Vib_Freq, observable, fwhm, num_points, spectro)\n",
    "\n",
    "t2 = time.time()\n",
    "print(t2-t1)"
   ]
  },
  {
   "cell_type": "code",
   "execution_count": null,
   "id": "85c2af56",
   "metadata": {},
   "outputs": [],
   "source": [
    "t1 = time.time()\n",
    "\n",
    "df = pd.read_csv(\"C:/Users/Aparna K/Downloads/code/Conformer_Generators/3.25/MD_100/Sorted.txt\", header=None, delimiter='\\t')\n",
    "combined = df[[2,3]].to_numpy()\n",
    "Vib_Freq = combined[:,0]\n",
    "observable = combined[:,1]\n",
    "\n",
    "ROA_325, Vib_Freq_325 = spectrum(Vib_Freq, observable, fwhm, num_points, spectro)\n",
    "\n",
    "t2 = time.time()\n",
    "print(t2-t1)"
   ]
  },
  {
   "cell_type": "code",
   "execution_count": null,
   "id": "aa7074c6",
   "metadata": {},
   "outputs": [],
   "source": [
    "t1 = time.time()\n",
    "\n",
    "df = pd.read_csv(\"C:/Users/Aparna K/Downloads/code/Conformer_Generators/3.5/MD_100/Sorted.txt\", header=None, delimiter='\\t')\n",
    "combined = df[[2,3]].to_numpy()\n",
    "Vib_Freq = combined[:,0]\n",
    "observable = combined[:,1]\n",
    "\n",
    "ROA_35, Vib_Freq_35 = spectrum(Vib_Freq, observable, fwhm, num_points, spectro)\n",
    "\n",
    "t2 = time.time()\n",
    "print(t2-t1)"
   ]
  },
  {
   "cell_type": "code",
   "execution_count": null,
   "id": "3813d86f",
   "metadata": {},
   "outputs": [],
   "source": [
    "t1 = time.time()\n",
    "\n",
    "df = pd.read_csv(\"C:/Users/Aparna K/Downloads/code/Conformer_Generators/3.75/MD_100/Sorted.txt\", header=None, delimiter='\\t')\n",
    "combined = df[[2,3]].to_numpy()\n",
    "Vib_Freq = combined[:,0]\n",
    "observable = combined[:,1]\n",
    "\n",
    "ROA_375, Vib_Freq_375 = spectrum(Vib_Freq, observable, fwhm, num_points, spectro)\n",
    "\n",
    "t2 = time.time()\n",
    "print(t2-t1)"
   ]
  },
  {
   "cell_type": "code",
   "execution_count": null,
   "id": "99e76b52",
   "metadata": {},
   "outputs": [],
   "source": [
    "fig, ax = plt.subplots()\n",
    "ax.plot(Vib_Freq_3, ROA_3, label = f\"3{A}\")\n",
    "ax.plot(Vib_Freq_325, ROA_325, label = f\"3.25{A}\")\n",
    "ax.plot(Vib_Freq_35, ROA_35, label = f\"3.5{A}\")\n",
    "ax.plot(Vib_Freq_375, ROA_375, label = f\"3.75{A}\")\n",
    "\n",
    "ax.set_xlim(210,2500)\n",
    "\n",
    "ax.legend()\n",
    "\n",
    "plt.show()"
   ]
  },
  {
   "cell_type": "code",
   "execution_count": 5,
   "id": "6176556a",
   "metadata": {},
   "outputs": [],
   "source": []
  },
  {
   "cell_type": "markdown",
   "id": "f316812c",
   "metadata": {},
   "source": [
    "# ROA spectra using different basis sets"
   ]
  },
  {
   "cell_type": "markdown",
   "id": "32158992",
   "metadata": {},
   "source": [
    "## we used  a specific frame with a distance cutoff of 3.5 Angstrom for all the cases listed below"
   ]
  },
  {
   "cell_type": "code",
   "execution_count": null,
   "id": "79532966",
   "metadata": {},
   "outputs": [],
   "source": [
    "t1 = time.time()\n",
    "\n",
    "df = pd.read_csv(\"C:/Users/Aparna K/Downloads/code/Conformer_Generators/basis_set_test/6-31G/Sorted.txt\", header=None, delimiter='\\t')\n",
    "combined = df[[2,3]].to_numpy()\n",
    "Vib_Freq = combined[:,0]\n",
    "observable = combined[:,1]\n",
    "\n",
    "ROA_1, Vib_Freq_1 = spectrum(Vib_Freq, observable, fwhm, num_points, spectro)\n",
    "\n",
    "t2 = time.time()\n",
    "print(t2-t1)"
   ]
  },
  {
   "cell_type": "code",
   "execution_count": null,
   "id": "86e7bd98",
   "metadata": {},
   "outputs": [],
   "source": [
    "t1 = time.time()\n",
    "\n",
    "df = pd.read_csv(\"C:/Users/Aparna K/Downloads/code/Conformer_Generators/basis_set_test/6-311+G/Sorted.txt\", header=None, delimiter='\\t')\n",
    "combined = df[[2,3]].to_numpy()\n",
    "Vib_Freq = combined[:,0]\n",
    "observable = combined[:,1]\n",
    "\n",
    "ROA_2, Vib_Freq_2 = spectrum(Vib_Freq, observable, fwhm, num_points, spectro)\n",
    "\n",
    "t2 = time.time()\n",
    "print(t2-t1)"
   ]
  },
  {
   "cell_type": "code",
   "execution_count": null,
   "id": "7df7abb7",
   "metadata": {},
   "outputs": [],
   "source": [
    "t1 = time.time()\n",
    "\n",
    "df = pd.read_csv(\"C:/Users/Aparna K/Downloads/code/Conformer_Generators/basis_set_test/6-31++G/Sorted.txt\", header=None, delimiter='\\t')\n",
    "combined = df[[2,3]].to_numpy()\n",
    "Vib_Freq = combined[:,0]\n",
    "observable = combined[:,1]\n",
    "\n",
    "ROA_3, Vib_Freq_3 = spectrum(Vib_Freq, observable, fwhm, num_points, spectro)\n",
    "\n",
    "t2 = time.time()\n",
    "print(t2-t1)"
   ]
  },
  {
   "cell_type": "code",
   "execution_count": null,
   "id": "aae3bb79",
   "metadata": {},
   "outputs": [],
   "source": [
    "t1 = time.time()\n",
    "\n",
    "df = pd.read_csv(\"C:/Users/Aparna K/Downloads/code/Conformer_Generators/basis_set_test/cc-pvdz/Sorted.txt\", header=None, delimiter='\\t')\n",
    "combined = df[[2,3]].to_numpy()\n",
    "Vib_Freq = combined[:,0]\n",
    "observable = combined[:,1]\n",
    "\n",
    "ROA_4, Vib_Freq_4 = spectrum(Vib_Freq, observable, fwhm, num_points, spectro)\n",
    "\n",
    "t2 = time.time()\n",
    "print(t2-t1)"
   ]
  },
  {
   "cell_type": "code",
   "execution_count": null,
   "id": "0def9d2d",
   "metadata": {},
   "outputs": [],
   "source": [
    "t1 = time.time()\n",
    "\n",
    "df = pd.read_csv(\"C:/Users/Aparna K/Downloads/code/Conformer_Generators/basis_set_test/cc-pvtz/Sorted.txt\", header=None, delimiter='\\t')\n",
    "combined = df[[2,3]].to_numpy()\n",
    "Vib_Freq = combined[:,0]\n",
    "observable = combined[:,1]\n",
    "\n",
    "ROA_5, Vib_Freq_5 = spectrum(Vib_Freq, observable, fwhm, num_points, spectro)\n",
    "\n",
    "t2 = time.time()\n",
    "print(t2-t1)"
   ]
  },
  {
   "cell_type": "code",
   "execution_count": null,
   "id": "40c7e57a",
   "metadata": {},
   "outputs": [],
   "source": [
    "t1 = time.time()\n",
    "\n",
    "df = pd.read_csv(\"C:/Users/Aparna K/Downloads/code/Conformer_Generators/basis_set_test/aug-cc-pvdz/Sorted.txt\", header=None, delimiter='\\t')\n",
    "combined = df[[2,3]].to_numpy()\n",
    "Vib_Freq = combined[:,0]\n",
    "observable = combined[:,1]\n",
    "\n",
    "ROA_6, Vib_Freq_6 = spectrum(Vib_Freq, observable, fwhm, num_points, spectro)\n",
    "\n",
    "t2 = time.time()\n",
    "print(t2-t1)"
   ]
  },
  {
   "cell_type": "code",
   "execution_count": null,
   "id": "ac0bea4c",
   "metadata": {},
   "outputs": [],
   "source": [
    "t1 = time.time()\n",
    "\n",
    "df = pd.read_csv(\"C:/Users/Aparna K/Downloads/code/Conformer_Generators/basis_set_test/mixed/Sorted.txt\", header=None, delimiter='\\t')\n",
    "combined = df[[2,3]].to_numpy()\n",
    "Vib_Freq = combined[:,0]\n",
    "observable = combined[:,1]\n",
    "\n",
    "ROA_7, Vib_Freq_7 = spectrum(Vib_Freq, observable, fwhm, num_points, spectro)\n",
    "\n",
    "t2 = time.time()\n",
    "print(t2-t1)"
   ]
  },
  {
   "cell_type": "code",
   "execution_count": null,
   "id": "c329954e",
   "metadata": {},
   "outputs": [],
   "source": [
    "fig,ax = plt.subplots()\n",
    "ax.plot(Vib_Freq_1, ROA_1, label = '6-31G')\n",
    "ax.plot(Vib_Freq_2, ROA_2, label = '6-311+G')\n",
    "ax.plot(Vib_Freq_3, ROA_3, label = '6-31++G(d,p)')\n",
    "ax.plot(Vib_Freq_4, ROA_4, label = 'cc-pvdz')\n",
    "ax.plot(Vib_Freq_5, ROA_5, label = 'cc-pvtz')\n",
    "ax.plot(Vib_Freq_6, ROA_6, label = 'aug-cc-pvdz')\n",
    "ax.plot(Vib_Freq_7, ROA_7, label = 'mixed')\n",
    "\n",
    "ax.set_xlim(210,2500)\n",
    "\n",
    "ax.legend()\n",
    "\n",
    "plt.show()"
   ]
  },
  {
   "cell_type": "code",
   "execution_count": null,
   "id": "ce54bd73",
   "metadata": {},
   "outputs": [],
   "source": [
    "spec_theory = np.array((ROA_1, ROA_2, ROA_3, ROA_4, ROA_5, ROA_7))"
   ]
  },
  {
   "cell_type": "code",
   "execution_count": 7,
   "id": "93b8e36b",
   "metadata": {},
   "outputs": [],
   "source": [
    "x = np.array(['6-31G', '6-311+G', '6-31++G(d,p)', 'cc-pvdz', 'cc-pvtz', 'mixed'])"
   ]
  },
  {
   "cell_type": "code",
   "execution_count": null,
   "id": "1ea7033e",
   "metadata": {},
   "outputs": [],
   "source": [
    "num_wrong_sign = []\n",
    "for i in range(len(spec_theory)):\n",
    "    num_wrong_sign.append(np.sum(np.multiply(ROA_6, spec_theory[i]) < 0))"
   ]
  },
  {
   "cell_type": "code",
   "execution_count": null,
   "id": "cdc85655",
   "metadata": {},
   "outputs": [],
   "source": [
    "fig,ax = plt.subplots()\n",
    "ax.scatter(x, num_wrong_sign)\n",
    "ax.set_ylim(0,2000)\n",
    "plt.show()"
   ]
  }
 ],
 "metadata": {
  "kernelspec": {
   "display_name": "Python 3 (ipykernel)",
   "language": "python",
   "name": "python3"
  },
  "language_info": {
   "codemirror_mode": {
    "name": "ipython",
    "version": 3
   },
   "file_extension": ".py",
   "mimetype": "text/x-python",
   "name": "python",
   "nbconvert_exporter": "python",
   "pygments_lexer": "ipython3",
   "version": "3.8.16"
  }
 },
 "nbformat": 4,
 "nbformat_minor": 5
}
