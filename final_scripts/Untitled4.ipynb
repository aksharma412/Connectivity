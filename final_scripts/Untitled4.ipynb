{
 "cells": [
  {
   "cell_type": "code",
   "execution_count": 1,
   "id": "5efe6d4b",
   "metadata": {},
   "outputs": [],
   "source": [
    "import numpy as np\n",
    "import matplotlib.pyplot as plt"
   ]
  },
  {
   "cell_type": "code",
   "execution_count": 39,
   "id": "4d52f143",
   "metadata": {},
   "outputs": [],
   "source": [
    "final = [[0, 0, 0, 0, 21, 36, 39, 66, 75, 84, 99, 105, 111],\n",
    " [0, 0, 0, 0, 21, 30, 36, 45, 54, 60, 78, 96, 111],\n",
    " [0, 0, 0, 6, 33, 36, 51, 54, 66, 84, 90, 105, 120],\n",
    " [0, 0, 0, 0, 18, 24, 45, 54, 72, 90, 96, 102, 123],\n",
    " [0, 0, 0, 6, 24, 30, 42, 51, 75, 81, 99, 120, 126],\n",
    " [0, 0, 0, 0, 24, 42, 45, 57, 72, 84, 96, 108, 120],\n",
    " [0, 0, 0, 3, 30, 39, 45, 57, 66, 78, 87, 102, 111],\n",
    " [0, 0, 0, 6, 33, 36, 45, 60, 66, 75, 78, 99, 117],\n",
    " [0, 0, 0, 0, 18, 36, 48, 57, 60, 63, 78, 96, 108],\n",
    " [0, 0, 0, 0, 30, 42, 51, 57, 66, 75, 75, 93, 120],\n",
    " [0, 0, 0, 0, 21, 36, 45, 54, 66, 84, 96, 102, 120],\n",
    " [0, 0, 0, 3, 27, 33, 42, 48, 60, 81, 81, 102, 114],\n",
    " [0, 0, 0, 0, 30, 42, 57, 72, 78, 87, 96, 108, 120],\n",
    " [0, 0, 0, 0, 24, 42, 48, 63, 72, 81, 93, 108, 123],\n",
    " [0, 0, 0, 9, 21, 45, 63, 63, 63, 72, 90, 108, 126],\n",
    " [0, 0, 0, 3, 21, 42, 54, 57, 69, 78, 90, 105, 114],\n",
    " [0, 0, 0, 0, 24, 51, 60, 72, 81, 93, 96, 117, 132],\n",
    " [0, 0, 0, 0, 21, 36, 51, 66, 78, 90, 99, 111, 126],\n",
    " [0, 0, 0, 3, 15, 42, 57, 66, 72, 90, 93, 102, 117],\n",
    " [0, 0, 0, 0, 27, 39, 45, 63, 78, 87, 93, 102, 114],\n",
    " [0, 0, 0, 9, 24, 45, 51, 57, 66, 78, 84, 105, 123],\n",
    " [0, 0, 0, 3, 21, 39, 48, 54, 63, 72, 78, 102, 120],\n",
    " [0, 0, 0, 3, 18, 27, 36, 48, 57, 60, 84, 102, 117],\n",
    " [0, 0, 0, 0, 15, 24, 36, 63, 66, 81, 99, 111, 123],\n",
    " [0, 0, 0, 6, 21, 33, 42, 51, 57, 72, 93, 96, 108],\n",
    " [0, 0, 0, 3, 18, 33, 39, 54, 69, 78, 93, 105, 114],\n",
    " [0, 0, 0, 6, 24, 39, 48, 51, 66, 69, 84, 93, 108],\n",
    " [0, 0, 0, 9, 27, 33, 48, 60, 72, 78, 90, 102, 114],\n",
    " [0, 0, 0, 6, 27, 33, 36, 54, 57, 72, 84, 87, 108],\n",
    " [0, 0, 0, 3, 21, 30, 51, 60, 66, 69, 87, 96, 108],\n",
    " [0, 0, 0, 0, 21, 39, 45, 54, 72, 78, 87, 93, 123],\n",
    " [0, 0, 0, 0, 27, 39, 45, 66, 78, 90, 93, 108, 120],\n",
    " [0, 0, 0, 3, 18, 36, 42, 54, 63, 69, 78, 96, 108],\n",
    " [0, 0, 0, 3, 15, 30, 36, 48, 63, 75, 90, 102, 114],\n",
    " [0, 0, 0, 0, 24, 42, 51, 60, 66, 75, 96, 111, 114],\n",
    " [0, 0, 0, 3, 27, 36, 54, 63, 78, 93, 96, 114, 132],\n",
    " [0, 0, 0, 6, 27, 39, 54, 63, 69, 78, 90, 108, 117],\n",
    " [0, 0, 0, 9, 21, 33, 51, 57, 63, 66, 69, 87, 105],\n",
    " [0, 0, 0, 6, 24, 36, 45, 51, 60, 75, 90, 105, 111],\n",
    " [0, 0, 0, 0, 27, 48, 54, 60, 72, 78, 93, 96, 111],\n",
    " [0, 0, 0, 3, 21, 33, 42, 51, 54, 63, 69, 87, 111],\n",
    " [0, 0, 0, 9, 30, 42, 51, 60, 75, 87, 102, 114, 126],\n",
    " [0, 0, 0, 0, 21, 30, 51, 57, 66, 84, 87, 102, 111],\n",
    " [0, 0, 0, 0, 21, 36, 48, 48, 63, 78, 81, 96, 105],\n",
    " [0, 0, 0, 0, 21, 39, 42, 48, 60, 69, 81, 102, 108],\n",
    " [0, 0, 0, 3, 24, 39, 45, 48, 63, 75, 84, 105, 114],\n",
    " [0, 0, 0, 0, 15, 27, 39, 51, 63, 72, 90, 105, 123],\n",
    " [0, 0, 0, 6, 24, 39, 42, 51, 60, 66, 75, 99, 123],\n",
    " [0, 0, 0, 0, 21, 36, 42, 48, 54, 72, 87, 96, 120],\n",
    " [0, 0, 0, 3, 21, 39, 48, 66, 69, 87, 96, 105, 126],\n",
    " [0, 0, 0, 3, 27, 42, 54, 63, 63, 72, 81, 93, 123],\n",
    " [0, 0, 0, 3, 24, 33, 45, 54, 75, 78, 84, 99, 105],\n",
    " [0, 0, 0, 0, 21, 39, 60, 66, 81, 84, 90, 108, 120],\n",
    " [0, 0, 0, 0, 24, 39, 51, 66, 78, 87, 90, 99, 123],\n",
    " [0, 0, 0, 6, 24, 33, 57, 63, 72, 84, 93, 99, 120],\n",
    " [0, 0, 0, 3, 27, 45, 57, 66, 81, 93, 96, 111, 117],\n",
    " [0, 0, 0, 3, 30, 51, 57, 63, 72, 78, 99, 102, 114],\n",
    " [0, 0, 0, 9, 27, 45, 57, 66, 72, 84, 90, 102, 126],\n",
    " [0, 0, 0, 9, 30, 48, 54, 57, 72, 81, 96, 105, 120],\n",
    " [0, 0, 0, 0, 24, 45, 51, 54, 66, 81, 87, 90, 111],\n",
    " [0, 0, 0, 6, 21, 39, 60, 72, 75, 84, 96, 102, 117],\n",
    " [0, 0, 0, 3, 27, 33, 45, 45, 57, 63, 81, 93, 114],\n",
    " [0, 0, 0, 3, 30, 42, 45, 51, 66, 81, 81, 96, 126],\n",
    " [0, 0, 0, 6, 15, 39, 45, 51, 54, 75, 87, 102, 111],\n",
    " [0, 0, 0, 3, 12, 33, 39, 54, 72, 81, 90, 108, 132],\n",
    " [0, 0, 0, 3, 33, 39, 48, 63, 69, 78, 90, 99, 117],\n",
    " [0, 0, 0, 3, 27, 45, 51, 72, 75, 81, 90, 99, 111],\n",
    " [0, 0, 0, 3, 18, 30, 36, 54, 69, 72, 81, 90, 111],\n",
    " [0, 0, 0, 3, 18, 30, 39, 63, 84, 84, 96, 105, 123],\n",
    " [0, 0, 0, 0, 18, 39, 54, 60, 69, 78, 87, 108, 123],\n",
    " [0, 0, 0, 0, 21, 39, 48, 57, 66, 69, 81, 96, 114],\n",
    " [0, 0, 0, 6, 30, 33, 39, 60, 66, 84, 96, 102, 120],\n",
    " [0, 0, 0, 0, 15, 36, 48, 51, 63, 78, 84, 102, 111],\n",
    " [0, 0, 0, 9, 30, 42, 48, 57, 63, 78, 87, 96, 105],\n",
    " [0, 0, 0, 0, 30, 33, 39, 45, 60, 69, 90, 111, 123],\n",
    " [0, 0, 0, 3, 24, 39, 45, 51, 60, 72, 84, 105, 129],\n",
    " [0, 0, 0, 3, 24, 30, 48, 57, 69, 84, 102, 105, 111],\n",
    " [0, 0, 0, 6, 30, 36, 54, 63, 75, 81, 96, 108, 126],\n",
    " [0, 0, 0, 3, 21, 27, 39, 57, 63, 75, 84, 96, 120],\n",
    " [0, 0, 0, 6, 24, 39, 51, 60, 75, 93, 102, 105, 114],\n",
    " [0, 0, 0, 0, 27, 48, 54, 60, 75, 87, 108, 117, 123],\n",
    " [0, 0, 0, 0, 24, 33, 45, 57, 60, 66, 75, 96, 117],\n",
    " [0, 0, 0, 0, 18, 30, 48, 66, 75, 90, 93, 102, 123],\n",
    " [0, 0, 0, 9, 24, 39, 45, 54, 69, 72, 87, 96, 108],\n",
    " [0, 0, 0, 3, 24, 36, 39, 51, 63, 69, 96, 105, 120],\n",
    " [0, 0, 0, 3, 21, 42, 51, 57, 66, 69, 81, 102, 111],\n",
    " [0, 0, 0, 0, 21, 39, 60, 60, 66, 69, 84, 99, 117],\n",
    " [0, 0, 0, 12, 24, 33, 45, 51, 72, 78, 96, 105, 111],\n",
    " [0, 0, 0, 0, 18, 39, 45, 57, 75, 84, 93, 102, 111],\n",
    " [0, 0, 0, 0, 18, 30, 42, 45, 54, 63, 81, 96, 102],\n",
    " [0, 0, 0, 6, 27, 33, 42, 54, 57, 69, 84, 96, 114],\n",
    " [0, 0, 0, 3, 21, 30, 42, 51, 57, 69, 81, 96, 111],\n",
    " [0, 0, 0, 6, 21, 36, 36, 48, 60, 72, 81, 99, 117],\n",
    " [0, 0, 0, 6, 18, 39, 48, 60, 81, 87, 87, 105, 126],\n",
    " [0, 0, 0, 3, 30, 42, 48, 51, 54, 72, 93, 108, 117],\n",
    " [0, 0, 0, 3, 18, 36, 51, 69, 75, 99, 114, 120, 129],\n",
    " [0, 0, 0, 6, 24, 33, 48, 57, 66, 66, 90, 105, 126],\n",
    " [0, 0, 0, 0, 18, 42, 54, 60, 78, 81, 99, 105, 126],\n",
    " [0, 0, 0, 0, 30, 36, 54, 66, 78, 93, 108, 111, 123],\n",
    " [0, 0, 0, 6, 15, 36, 45, 54, 63, 75, 90, 99, 105]]"
   ]
  },
  {
   "cell_type": "code",
   "execution_count": 2,
   "id": "b287ceb4",
   "metadata": {},
   "outputs": [],
   "source": [
    "final = [[0,\n",
    "  0,\n",
    "  0,\n",
    "  0,\n",
    "  30,\n",
    "  42,\n",
    "  51,\n",
    "  57,\n",
    "  66,\n",
    "  75,\n",
    "  75,\n",
    "  93,\n",
    "  120,\n",
    "  138,\n",
    "  144,\n",
    "  159,\n",
    "  186,\n",
    "  213,\n",
    "  225,\n",
    "  249,\n",
    "  270,\n",
    "  306,\n",
    "  339,\n",
    "  369,\n",
    "  390,\n",
    "  435,\n",
    "  474,\n",
    "  513,\n",
    "  540],\n",
    " [0,\n",
    "  0,\n",
    "  0,\n",
    "  0,\n",
    "  27,\n",
    "  39,\n",
    "  45,\n",
    "  63,\n",
    "  78,\n",
    "  87,\n",
    "  93,\n",
    "  102,\n",
    "  114,\n",
    "  126,\n",
    "  153,\n",
    "  174,\n",
    "  195,\n",
    "  204,\n",
    "  219,\n",
    "  243,\n",
    "  276,\n",
    "  312,\n",
    "  330,\n",
    "  360,\n",
    "  387,\n",
    "  435,\n",
    "  471,\n",
    "  492,\n",
    "  531],\n",
    " [0,\n",
    "  0,\n",
    "  0,\n",
    "  3,\n",
    "  21,\n",
    "  30,\n",
    "  51,\n",
    "  60,\n",
    "  66,\n",
    "  69,\n",
    "  87,\n",
    "  96,\n",
    "  108,\n",
    "  132,\n",
    "  150,\n",
    "  165,\n",
    "  201,\n",
    "  213,\n",
    "  240,\n",
    "  255,\n",
    "  288,\n",
    "  309,\n",
    "  333,\n",
    "  354,\n",
    "  366,\n",
    "  405,\n",
    "  432,\n",
    "  483,\n",
    "  543],\n",
    " [0,\n",
    "  0,\n",
    "  0,\n",
    "  0,\n",
    "  27,\n",
    "  48,\n",
    "  54,\n",
    "  60,\n",
    "  72,\n",
    "  78,\n",
    "  93,\n",
    "  96,\n",
    "  111,\n",
    "  126,\n",
    "  141,\n",
    "  174,\n",
    "  195,\n",
    "  219,\n",
    "  246,\n",
    "  267,\n",
    "  279,\n",
    "  318,\n",
    "  342,\n",
    "  363,\n",
    "  390,\n",
    "  426,\n",
    "  456,\n",
    "  507,\n",
    "  537],\n",
    " [0,\n",
    "  0,\n",
    "  0,\n",
    "  3,\n",
    "  21,\n",
    "  39,\n",
    "  48,\n",
    "  66,\n",
    "  69,\n",
    "  87,\n",
    "  96,\n",
    "  105,\n",
    "  126,\n",
    "  144,\n",
    "  165,\n",
    "  177,\n",
    "  207,\n",
    "  216,\n",
    "  228,\n",
    "  249,\n",
    "  282,\n",
    "  291,\n",
    "  327,\n",
    "  363,\n",
    "  399,\n",
    "  447,\n",
    "  483,\n",
    "  522,\n",
    "  540],\n",
    " [0,\n",
    "  0,\n",
    "  0,\n",
    "  0,\n",
    "  24,\n",
    "  45,\n",
    "  51,\n",
    "  54,\n",
    "  66,\n",
    "  81,\n",
    "  87,\n",
    "  90,\n",
    "  111,\n",
    "  120,\n",
    "  153,\n",
    "  174,\n",
    "  201,\n",
    "  228,\n",
    "  240,\n",
    "  258,\n",
    "  285,\n",
    "  327,\n",
    "  348,\n",
    "  366,\n",
    "  396,\n",
    "  441,\n",
    "  489,\n",
    "  516,\n",
    "  549],\n",
    " [0,\n",
    "  0,\n",
    "  0,\n",
    "  0,\n",
    "  18,\n",
    "  39,\n",
    "  54,\n",
    "  60,\n",
    "  69,\n",
    "  78,\n",
    "  87,\n",
    "  108,\n",
    "  123,\n",
    "  144,\n",
    "  153,\n",
    "  171,\n",
    "  198,\n",
    "  219,\n",
    "  243,\n",
    "  282,\n",
    "  309,\n",
    "  345,\n",
    "  375,\n",
    "  387,\n",
    "  414,\n",
    "  441,\n",
    "  471,\n",
    "  513,\n",
    "  546],\n",
    " [0,\n",
    "  0,\n",
    "  0,\n",
    "  6,\n",
    "  24,\n",
    "  39,\n",
    "  51,\n",
    "  60,\n",
    "  75,\n",
    "  93,\n",
    "  102,\n",
    "  105,\n",
    "  114,\n",
    "  138,\n",
    "  159,\n",
    "  165,\n",
    "  189,\n",
    "  207,\n",
    "  228,\n",
    "  252,\n",
    "  282,\n",
    "  315,\n",
    "  360,\n",
    "  378,\n",
    "  411,\n",
    "  456,\n",
    "  474,\n",
    "  507,\n",
    "  540],\n",
    " [0,\n",
    "  0,\n",
    "  0,\n",
    "  0,\n",
    "  18,\n",
    "  30,\n",
    "  42,\n",
    "  45,\n",
    "  54,\n",
    "  63,\n",
    "  81,\n",
    "  96,\n",
    "  102,\n",
    "  123,\n",
    "  141,\n",
    "  165,\n",
    "  183,\n",
    "  204,\n",
    "  216,\n",
    "  246,\n",
    "  270,\n",
    "  306,\n",
    "  336,\n",
    "  366,\n",
    "  384,\n",
    "  417,\n",
    "  456,\n",
    "  489,\n",
    "  537],\n",
    " [0,\n",
    "  0,\n",
    "  0,\n",
    "  6,\n",
    "  15,\n",
    "  36,\n",
    "  45,\n",
    "  54,\n",
    "  63,\n",
    "  75,\n",
    "  90,\n",
    "  99,\n",
    "  105,\n",
    "  123,\n",
    "  156,\n",
    "  168,\n",
    "  183,\n",
    "  213,\n",
    "  237,\n",
    "  264,\n",
    "  294,\n",
    "  318,\n",
    "  351,\n",
    "  372,\n",
    "  408,\n",
    "  426,\n",
    "  459,\n",
    "  486,\n",
    "  528]]"
   ]
  },
  {
   "cell_type": "code",
   "execution_count": 40,
   "id": "8ea456de",
   "metadata": {},
   "outputs": [],
   "source": [
    "final_array = np.array(final)"
   ]
  },
  {
   "cell_type": "code",
   "execution_count": 41,
   "id": "80674f6a",
   "metadata": {},
   "outputs": [
    {
     "data": {
      "text/plain": [
       "array([[  0,   0,   0, ...,  99, 105, 111],\n",
       "       [  0,   0,   0, ...,  78,  96, 111],\n",
       "       [  0,   0,   0, ...,  90, 105, 120],\n",
       "       ...,\n",
       "       [  0,   0,   0, ...,  99, 105, 126],\n",
       "       [  0,   0,   0, ..., 108, 111, 123],\n",
       "       [  0,   0,   0, ...,  90,  99, 105]])"
      ]
     },
     "execution_count": 41,
     "metadata": {},
     "output_type": "execute_result"
    }
   ],
   "source": [
    "final_array"
   ]
  },
  {
   "cell_type": "code",
   "execution_count": 42,
   "id": "d71e9a4d",
   "metadata": {},
   "outputs": [],
   "source": [
    "diff_array = np.diff(final_array, axis=1)"
   ]
  },
  {
   "cell_type": "code",
   "execution_count": 43,
   "id": "dcbd62d0",
   "metadata": {},
   "outputs": [],
   "source": [
    "final_av = np.mean(final_array, axis=0)"
   ]
  },
  {
   "cell_type": "code",
   "execution_count": 44,
   "id": "06d4b57a",
   "metadata": {},
   "outputs": [
    {
     "data": {
      "text/plain": [
       "array([  0.  ,   0.  ,   0.  ,   3.12,  23.16,  37.08,  47.37,  57.27,\n",
       "        67.65,  77.88,  89.25, 102.21, 117.12])"
      ]
     },
     "execution_count": 44,
     "metadata": {},
     "output_type": "execute_result"
    }
   ],
   "source": [
    "final_av"
   ]
  },
  {
   "cell_type": "code",
   "execution_count": 45,
   "id": "bcb06afd",
   "metadata": {},
   "outputs": [
    {
     "data": {
      "text/plain": [
       "12"
      ]
     },
     "execution_count": 45,
     "metadata": {},
     "output_type": "execute_result"
    }
   ],
   "source": [
    "len(diff_array[0])"
   ]
  },
  {
   "cell_type": "code",
   "execution_count": 51,
   "id": "8411e852",
   "metadata": {},
   "outputs": [],
   "source": [
    "distance = np.arange(1,4.25,0.25)"
   ]
  },
  {
   "cell_type": "code",
   "execution_count": 52,
   "id": "2e2ed0e0",
   "metadata": {},
   "outputs": [
    {
     "data": {
      "text/plain": [
       "array([1.  , 1.25, 1.5 , 1.75, 2.  , 2.25, 2.5 , 2.75, 3.  , 3.25, 3.5 ,\n",
       "       3.75, 4.  ])"
      ]
     },
     "execution_count": 52,
     "metadata": {},
     "output_type": "execute_result"
    }
   ],
   "source": [
    "distance"
   ]
  },
  {
   "cell_type": "code",
   "execution_count": 53,
   "id": "b5d6557d",
   "metadata": {},
   "outputs": [],
   "source": [
    "vol = []\n",
    "for i in range(len(distance)-1):\n",
    "    vol.append((4/3)*np.pi*(distance[i+1]**3 - distance[i]**3))"
   ]
  },
  {
   "cell_type": "code",
   "execution_count": 54,
   "id": "d27c687a",
   "metadata": {},
   "outputs": [
    {
     "data": {
      "text/plain": [
       "[3.9924406639370287,\n",
       " 5.955936072430649,\n",
       " 8.312130562622993,\n",
       " 11.061024134514062,\n",
       " 14.202616788103855,\n",
       " 17.736908523392373,\n",
       " 21.663899340379615,\n",
       " 25.98358923906558,\n",
       " 30.695978219450268,\n",
       " 35.80106628153368,\n",
       " 41.29885342531582,\n",
       " 47.18933965079668]"
      ]
     },
     "execution_count": 54,
     "metadata": {},
     "output_type": "execute_result"
    }
   ],
   "source": [
    "vol"
   ]
  },
  {
   "cell_type": "code",
   "execution_count": 55,
   "id": "c54aae45",
   "metadata": {},
   "outputs": [],
   "source": [
    "temp = final_av[1:]/vol"
   ]
  },
  {
   "cell_type": "code",
   "execution_count": 65,
   "id": "f3c6893b",
   "metadata": {},
   "outputs": [],
   "source": [
    "rdf = temp/(4*np.pi*distance[-1]**2*0.25)"
   ]
  },
  {
   "cell_type": "code",
   "execution_count": 66,
   "id": "0cc74e62",
   "metadata": {},
   "outputs": [],
   "source": [
    "final_diff = np.mean(diff_array, axis=0)"
   ]
  },
  {
   "cell_type": "code",
   "execution_count": 67,
   "id": "b3ff2467",
   "metadata": {},
   "outputs": [],
   "source": [
    "def normalize(x):\n",
    "    \n",
    "    #normalizes the input array by dividing each element by the maximum absolute value in the array\n",
    "    \n",
    "    max_val = np.max(np.abs(x))\n",
    "    return x / max_val"
   ]
  },
  {
   "cell_type": "code",
   "execution_count": 69,
   "id": "4c6221c4",
   "metadata": {},
   "outputs": [
    {
     "data": {
      "image/png": "[encoded data removed]",
      "text/plain": [
       "<Figure size 640x480 with 1 Axes>"
      ]
     },
     "metadata": {},
     "output_type": "display_data"
    }
   ],
   "source": [
    "fig,ax = plt.subplots()\n",
    "ax.plot(distance[1:], rdf*20, label = 'rdf')\n",
    "ax.legend()\n",
    "\n",
    "plt.show()"
   ]
  },
  {
   "cell_type": "code",
   "execution_count": 60,
   "id": "eed1c1f0",
   "metadata": {},
   "outputs": [
    {
     "name": "stderr",
     "output_type": "stream",
     "text": [
      "No artists with labels found to put in legend.  Note that artists whose label start with an underscore are ignored when legend() is called with no argument.\n"
     ]
    },
    {
     "data": {
      "image/png": "[encoded data removed]",
      "text/plain": [
       "<Figure size 640x480 with 1 Axes>"
      ]
     },
     "metadata": {},
     "output_type": "display_data"
    }
   ],
   "source": [
    "fig,ax = plt.subplots()\n",
    "ax.plot(distance[1:], final_diff/3)\n",
    "plt.xlabel(\"Distance from the cneter of the solute\")\n",
    "plt.ylabel(\"Number of water molecules\")\n",
    "ax.legend()\n",
    "\n",
    "plt.show()"
   ]
  },
  {
   "cell_type": "code",
   "execution_count": null,
   "id": "dc94d9c9",
   "metadata": {},
   "outputs": [],
   "source": []
  }
 ],
 "metadata": {
  "kernelspec": {
   "display_name": "Python 3 (ipykernel)",
   "language": "python",
   "name": "python3"
  },
  "language_info": {
   "codemirror_mode": {
    "name": "ipython",
    "version": 3
   },
   "file_extension": ".py",
   "mimetype": "text/x-python",
   "name": "python",
   "nbconvert_exporter": "python",
   "pygments_lexer": "ipython3",
   "version": "3.8.16"
  }
 },
 "nbformat": 4,
 "nbformat_minor": 5
}
